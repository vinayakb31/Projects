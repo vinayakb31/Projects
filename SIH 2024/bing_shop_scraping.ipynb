{
 "cells": [
  {
   "cell_type": "code",
   "execution_count": 34,
   "metadata": {},
   "outputs": [],
   "source": [
    "import requests\n",
    "from bs4 import BeautifulSoup"
   ]
  },
  {
   "cell_type": "code",
   "execution_count": 35,
   "metadata": {},
   "outputs": [],
   "source": [
    "product_name = str(input(\"Enter the product name: \"))"
   ]
  },
  {
   "cell_type": "code",
   "execution_count": 36,
   "metadata": {},
   "outputs": [],
   "source": [
    "search_url = f\"https://www.bing.com/shop?q={product_name.replace(' ', '+')}\"\n",
    "HEADERS = ({'User-Agent': 'Mozilla/5.0 (Windows NT 10.0; Win64; x64) AppleWebKit/537.36 (KHTML, like Gecko) Chrome/128.0.0.0 Safari/537.36 Edg/128.0.0.0', 'Accepted-Language':'en-US, en;q=0.5'})\n",
    "\n",
    "response = requests.get(search_url, headers=HEADERS)\n",
    "soup = BeautifulSoup(response.content, 'html.parser')"
   ]
  },
  {
   "cell_type": "code",
   "execution_count": 37,
   "metadata": {},
   "outputs": [],
   "source": [
    "bing_sources = soup.find_all('a', {'class':'br-titlelink sj_spcls'})\n",
    "\n",
    "for i in range(len(bing_sources)):\n",
    "    bing_sources[i] = \"https://www.bing.com\" + bing_sources[i].get('href')\n",
    "\n",
    "bing_sources = list(set(bing_sources))"
   ]
  },
  {
   "cell_type": "code",
   "execution_count": 38,
   "metadata": {},
   "outputs": [
    {
     "data": {
      "text/plain": [
       "[['Apple iPhone 15 (Pink, 128 Gb, 0 Mah)',\n",
       "  '₹ 65,999.00',\n",
       "  'Flipkart',\n",
       "  'https://www.bing.com/ck/a?!&&p=f0cb745db9d4a07add7e9c8152f3c31241144ce9b0486f21addcd8c2fd5d37beJmdvaWQ9MTg3ODYyNzYyOTY5JmltdHM9MTcyNTEyNTQzOSZyZ3VpZD00Nzc1ZmNkMC1iNWNjLTRmNTktYmFhZC1mODlkOWFjNGRmNGMmbWt0PWVuLWlu&ptn=2&hsh=4&fclid=bd2ef0a3-67be-11ef-b500-62bd11f15d03&u=a1aHR0cHM6Ly9iaW5nLmNvbS9hbGluay9saW5rP3VybD1odHRwJTNhJTJmJTJmd3d3LmZsaXBrYXJ0LmNvbSUyZmFwcGxlLWlwaG9uZS0xNS1waW5rLTEyOC1nYiUyZnAlMmZpdG03NTc5ZWQ5NGNhNjQ3JTNmcGlkJTNkTU9CR1RBR1BOTVpBNVBVNSUyNmxpZCUzZExTVE1PQkdUQUdQTk1aQTVQVTUxWVdUR1olMjZtYXJrZXRwbGFjZSUzZEZMSVBLQVJUJTI2Y21waWQlM2Rjb250ZW50X21vYmlsZV84OTY1MjI5NjI4X2dtYyZzb3VyY2U9YmluZ3Nob3BwaW5nJmg9MCUyYjNneDZiQmdZcmhpT2Y1NUVMNGRWd0R1TWxIZkk5dHNXQUpBMUMxUlFjJTNkJm1zb2NraWQ9YmQyZWYwYTM2N2JlMTFlZmI1MDA2MmJkMTFmMTVkMDM&ntb=1'],\n",
       " ['Apple iPhone 15 Plus 128 GB, Blue',\n",
       "  '₹ 79,990.00',\n",
       "  'Reliance Digital',\n",
       "  'https://www.bing.com/ck/a?!&&p=a1ef2c5bff2c450308a79ff3f15293325852fb43b70e647c39a3d07b4f3bd626JmdvaWQ9MTYxNjYxMzczNzY4JmltdHM9MTcyNTEyNTQ0MCZyZ3VpZD04YzhjMGRiYS03YmM0LTQ1YzItYTI1MC1jZjIwN2Y4MzBlOWEmbWt0PWVuLWlu&ptn=2&hsh=4&fclid=bdbe9337-67be-11ef-88cb-77891d8bc8bb&u=a1aHR0cHM6Ly9iaW5nLmNvbS9hbGluay9saW5rP3VybD1odHRwcyUzYSUyZiUyZnNjYW5kaWQuaW4lMmZyZWRpcmVjdCUzZnJlZiUzZFJFRlRFTVAlMjZwcm9kdWN0aWQlM2Rwcm9kdWN0X3JlbF9kZ3JzcXM5dHNramxhJTI2Y2F0ZWdvcnklM2RwaG9uZSUyNnN0b3JlJTNkcmVsaWFuY2VkaWdpdGFsJTI2dGl0bGUlM2RhcHBsZS1pcGhvbmUtMTUtcGx1cy0xMjgtZ2ItYmx1ZSUyNnV1aWQlM2QyMDI0MDgzMCUyNnBpZCUzZGJpbmclMjZ1dWlkJTNkMjAyNDA4MzAlMjZzYyUzZDElMjZwcmljZSUzZDc5OTkwLjAlMjZ1JTNkaHR0cCUyNTNBJTI1MkYlMjUyRnd3dy5yZWxpYW5jZWRpZ2l0YWwuaW4lMjUyRmFwcGxlLWlwaG9uZS0xNS1wbHVzLTEyOC1nYi1ibHVlJTI1MkZwJTI1MkY0OTM4MzkzMjclMjZzYyUzZDEmc291cmNlPWJpbmdzaG9wcGluZyZoPUtjR2lEaTFiSUdnemwlMmZsRHFRZEhWQmNGd0hxMFdlT1Y3VjExMmFrVzFNMCUzZCZtc29ja2lkPWJkYmU5MzM3NjdiZTExZWY4OGNiNzc4OTFkOGJjOGJi&ntb=1'],\n",
       " ['Apple iPhone 15 (128 GB) - Blue',\n",
       "  '₹ 70,499.00',\n",
       "  'Amazon',\n",
       "  'https://www.bing.com/ck/a?!&&p=73e09467d920d7840bae3dd8de18ed9e1ffb09955cd6895dfdc6736f3b0c6a22JmdvaWQ9MTc5MzcwMjE5NTg2JmltdHM9MTcyNTEyNTQ0MSZyZ3VpZD1hYzU1OGE3OS02NGU2LTRmZTUtOGE3Ny04NzU3ZTY2ZTVlYWImbWt0PWVuLWlu&ptn=2&hsh=4&fclid=be66f16e-67be-11ef-b680-34582e7ae172&u=a1aHR0cHM6Ly9iaW5nLmNvbS9hbGluay9saW5rP3VybD1odHRwcyUzYSUyZiUyZnNjYW5kaWQuaW4lMmZyZWRpcmVjdCUzZnJlZiUzZFJFRlRFTVAlMjZwcm9kdWN0aWQlM2Rwcm9kdWN0X2ZkNGRsNmtiZzAxNHYlMjZzdG9yZSUzZGFtYXpvbiUyNnRpdGxlJTNkYXBwbGUtaXBob25lLTE1LTEyOC1nYi1ibHVlJTI2dXVpZCUzZDIwMjQwODMwJTI2cGlkJTNkYmluZyUyNnV1aWQlM2QyMDI0MDgzMCUyNnNjJTNkMSUyNnByaWNlJTNkNzA0OTkuMCUyNnUlM2RodHRwcyUyNTNBJTI1MkYlMjUyRnd3dy5hbWF6b24uaW4lMjUyRmRwJTI1MkZCMENIWDJGNVFUJTI1M0Z0YWclMjUzRGJnbXMtMjElMjUyNmFzY3N1YnRhZyUyNTNEVEVNUFhZWjc4NiUyNnNjJTNkMSZzb3VyY2U9YmluZ3Nob3BwaW5nJmg9SlAlMmZvek1vR2xwZmRLazlHbDFxZjUwM05CZyUyYlMxc2JCQ2xFSmFBRUJoRVUlM2QmbXNvY2tpZD1iZTY2ZjE2ZTY3YmUxMWVmYjY4MDM0NTgyZTdhZTE3Mg&ntb=1'],\n",
       " ['Apple iPhone 15 (128 GB) - Black',\n",
       "  '₹ 70,499.00',\n",
       "  'Amazon',\n",
       "  'https://www.bing.com/ck/a?!&&p=f4f65c6130455e19a3bf6ffd1e2c58be75f66bb93877500b7d9360ff344ae8d1JmdvaWQ9MTc5MzcwMjE5NTkxJmltdHM9MTcyNTEyNTQ0MiZyZ3VpZD02OTQzY2E2OC1mMzNjLTRkZjgtODVlYS05MWZmZGVmNmY1MTAmbWt0PWVuLWlu&ptn=2&hsh=4&fclid=bf043241-67be-11ef-be98-c791a6312a76&u=a1aHR0cHM6Ly9iaW5nLmNvbS9hbGluay9saW5rP3VybD1odHRwcyUzYSUyZiUyZnNjYW5kaWQuaW4lMmZyZWRpcmVjdCUzZnJlZiUzZFJFRlRFTVAlMjZwcm9kdWN0aWQlM2Rwcm9kdWN0X2ZkNGRsNmtiZzAxNHYlMjZzdG9yZSUzZGFtYXpvbiUyNnRpdGxlJTNkYXBwbGUtaXBob25lLTE1LTEyOC1nYi1ibGFjayUyNnV1aWQlM2QyMDI0MDgzMCUyNnBpZCUzZGJpbmclMjZ1dWlkJTNkMjAyNDA4MzAlMjZzYyUzZDElMjZwcmljZSUzZDcwNDk5LjAlMjZ1JTNkaHR0cHMlMjUzQSUyNTJGJTI1MkZ3d3cuYW1hem9uLmluJTI1MkZkcCUyNTJGQjBDSFgxVzFYWSUyNTNGdGFnJTI1M0RiZ21zLTIxJTI1MjZhc2NzdWJ0YWclMjUzRFRFTVBYWVo3ODYlMjZzYyUzZDEmc291cmNlPWJpbmdzaG9wcGluZyZoPU90YllRMkVxNmlibUxBRDlyRmFYRHFZTW8zWGZKWVlma3FDOXAwJTJmNGFJOCUzZCZtc29ja2lkPWJmMDQzMjQxNjdiZTExZWZiZTk4Yzc5MWE2MzEyYTc2&ntb=1'],\n",
       " ['Apple iPhone 15 Plus 128 GB, Black',\n",
       "  '₹ 84,600.00',\n",
       "  'Reliance Digital',\n",
       "  'https://www.bing.com/ck/a?!&&p=cc7d4f032d7d1df60979308ba277b75e03564cc92d015a8a536d6b3cadcbec16JmdvaWQ9MTYxNjY1NDU1OTQ3JmltdHM9MTcyNTEyNTQ0MyZyZ3VpZD0wZjExZjQ2YS04MGI5LTRkNjEtODNkNi05ZDE0NjJmZTk0NGMmbWt0PWVuLWlu&ptn=2&hsh=4&fclid=bfac1085-67be-11ef-97bb-64dd0a1f8aa6&u=a1aHR0cHM6Ly9iaW5nLmNvbS9hbGluay9saW5rP3VybD1odHRwcyUzYSUyZiUyZnNjYW5kaWQuaW4lMmZyZWRpcmVjdCUzZnJlZiUzZFJFRlRFTVAlMjZwcm9kdWN0aWQlM2Rwcm9kdWN0X3JlbF8zaGZvbXBiYWtzcGprJTI2Y2F0ZWdvcnklM2RwaG9uZSUyNnN0b3JlJTNkcmVsaWFuY2VkaWdpdGFsJTI2dGl0bGUlM2RhcHBsZS1pcGhvbmUtMTUtcGx1cy0xMjgtZ2ItYmxhY2slMjZ1dWlkJTNkMjAyNDA4MjQlMjZwaWQlM2RiaW5nJTI2dXVpZCUzZDIwMjQwODI0JTI2c2MlM2QxJTI2cHJpY2UlM2Q4NDYwMC4wJTI2dSUzZGh0dHAlMjUzQSUyNTJGJTI1MkZ3d3cucmVsaWFuY2VkaWdpdGFsLmluJTI1MkZhcHBsZS1pcGhvbmUtMTUtcGx1cy0xMjgtZ2ItYmxhY2slMjUyRnAlMjUyRjQ5MzgzOTMyNCUyNnNjJTNkMSZzb3VyY2U9YmluZ3Nob3BwaW5nJmg9dGNsRlIlMmJXOVcxMFpxYmpvJTJmNWgzdHpkU3JMNHpVVEVIQnBXd0NzcjFzWTAlM2QmbXNvY2tpZD1iZmFjMTA4NTY3YmUxMWVmOTdiYjY0ZGQwYTFmOGFhNg&ntb=1'],\n",
       " ['Apple iPhone 15 (Black, 128 Gb, 0 Mah)',\n",
       "  '₹ 65,999.00',\n",
       "  'Flipkart',\n",
       "  'https://www.bing.com/ck/a?!&&p=ba937b52806a8958568d54eaa3892d7198ff014c1246a65a86162936aa844c1cJmdvaWQ9MTc3MzQ1MzE3MDc3JmltdHM9MTcyNTEyNTQ0NCZyZ3VpZD1mMTYwYTI0My02ODlmLTRjN2UtOWI1Zi0wY2U4MjFiYWU4M2EmbWt0PWVuLWlu&ptn=2&hsh=4&fclid=c036f0c1-67be-11ef-a78b-6f6c4bd4b130&u=a1aHR0cHM6Ly9iaW5nLmNvbS9hbGluay9saW5rP3VybD1odHRwJTNhJTJmJTJmd3d3LmZsaXBrYXJ0LmNvbSUyZmFwcGxlLWlwaG9uZS0xNS1ibGFjay0xMjgtZ2IlMmZwJTJmaXRtNmFjNjQ4NTUxNWFlNCUzZnBpZCUzZE1PQkdUQUdQVEIzVlMyNFclMjZsaWQlM2RMU1RNT0JHVEFHUFRCM1ZTMjRXN1JINlpaJTI2bWFya2V0cGxhY2UlM2RGTElQS0FSVCUyNmNtcGlkJTNkY29udGVudF9tb2JpbGVfODk2NTIyOTYyOF9nbWMmc291cmNlPWJpbmdzaG9wcGluZyZoPWxlbVJOcyUyYlpmaEFtUlFTWUFuaFlZVFR2ZmZMbkNkanN4ZU9zOGpjVXpmOCUzZCZtc29ja2lkPWMwMzZmMGMxNjdiZTExZWZhNzhiNmY2YzRiZDRiMTMw&ntb=1']]"
      ]
     },
     "execution_count": 38,
     "metadata": {},
     "output_type": "execute_result"
    }
   ],
   "source": [
    "def traversingEachWebpage():\n",
    "    count = 0                           \n",
    "    result_count = 6                   #Number of results shown\n",
    "    product_details = []                \n",
    "    \n",
    "    for url in bing_sources:\n",
    "        if count < result_count:\n",
    "            raw_product_page = requests.get(url, headers=HEADERS)\n",
    "            product_page = BeautifulSoup(raw_product_page.content, 'html.parser')\n",
    "\n",
    "            title = product_page.find('h1', {'class':'br-pdTtl'}).text\n",
    "            price = product_page.find('span', {'class':'br-oboSnDp'}).text\n",
    "            source_name = product_page.find('div', {'class':'br-oboSnSn'}).text\n",
    "            source_link = product_page.find('a', {'class':'br-oboSnOptLink'}).get('href')\n",
    "            \n",
    "            product_details.append([title, price, source_name, source_link])\n",
    "\n",
    "\n",
    "            count += 1\n",
    "        \n",
    "        else:\n",
    "            break\n",
    "    \n",
    "    return product_details\n",
    "\n",
    "traversingEachWebpage()"
   ]
  },
  {
   "cell_type": "code",
   "execution_count": 40,
   "metadata": {},
   "outputs": [
    {
     "data": {
      "text/plain": [
       "[['Unskilled Labor (Per Day)', 300],\n",
       " ['Semi-Skilled Labor (Per Day)', 350],\n",
       " ['Skilled Labor (Per Day)', 400],\n",
       " ['Highly Skilled Labor (Per Day)', 500],\n",
       " ['Minimum Wage for Agricultural Labor', 225],\n",
       " ['Minimum Wage for Construction Workers', 350],\n",
       " ['Minimum Wage for Domestic Workers', 200],\n",
       " ['Mahatma Gandhi National Rural Employment Guarantee Act (MGNREGA) Wage',\n",
       "  210],\n",
       " ['Service Charge for e-Governance Services (Per Transaction)', 20]]"
      ]
     },
     "execution_count": 40,
     "metadata": {},
     "output_type": "execute_result"
    }
   ],
   "source": [
    "government_defined_rates = []\n",
    "service_rates = [\n",
    "    [\"Unskilled Labor (Per Day)\", 300],        \n",
    "    [\"Semi-Skilled Labor (Per Day)\", 350],      \n",
    "    [\"Skilled Labor (Per Day)\", 400],      \n",
    "    [\"Highly Skilled Labor (Per Day)\", 500],     \n",
    "    [\"Minimum Wage for Agricultural Labor\", 225],\n",
    "    [\"Minimum Wage for Construction Workers\", 350],\n",
    "    [\"Minimum Wage for Domestic Workers\", 200],\n",
    "    [\"Mahatma Gandhi National Rural Employment Guarantee Act (MGNREGA) Wage\", 210],\n",
    "    [\"Service Charge for e-Governance Services (Per Transaction)\", 20]\n",
    "]\n",
    "\n",
    "service_rates\n"
   ]
  },
  {
   "cell_type": "code",
   "execution_count": null,
   "metadata": {},
   "outputs": [],
   "source": []
  }
 ],
 "metadata": {
  "kernelspec": {
   "display_name": ".venv",
   "language": "python",
   "name": "python3"
  },
  "language_info": {
   "codemirror_mode": {
    "name": "ipython",
    "version": 3
   },
   "file_extension": ".py",
   "mimetype": "text/x-python",
   "name": "python",
   "nbconvert_exporter": "python",
   "pygments_lexer": "ipython3",
   "version": "3.12.5"
  }
 },
 "nbformat": 4,
 "nbformat_minor": 2
}
