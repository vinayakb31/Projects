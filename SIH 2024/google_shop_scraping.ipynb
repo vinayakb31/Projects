{
 "cells": [
  {
   "cell_type": "code",
   "execution_count": 120,
   "metadata": {},
   "outputs": [],
   "source": [
    "import requests\n",
    "from bs4 import BeautifulSoup\n",
    "from googlesearch import search"
   ]
  },
  {
   "cell_type": "code",
   "execution_count": 121,
   "metadata": {},
   "outputs": [],
   "source": [
    "search_str = str(input(\"Enter the product name: \"))"
   ]
  },
  {
   "cell_type": "code",
   "execution_count": 122,
   "metadata": {},
   "outputs": [],
   "source": [
    "# government_defined_rates = {\n",
    "#     \"Unskilled Labor\": 300,                                     # Unskilled labor rate per day\n",
    "#     \"Semi-Skilled Labor\": 350,                                  # Semi-skilled labor rate per day\n",
    "#     \"Skilled Labor\": 400,                                       # Skilled labor rate per day\n",
    "#     \"Highly Skilled Labor\": 500,                                # Highly skilled labor rate per day\n",
    "#     \"Minimum Wage for Agricultural Labor\": 225,                 # Minimum wage in agriculture sector\n",
    "#     \"Minimum Wage for Construction Workers\": 350,               # Minimum wage in construction\n",
    "#     \"Minimum Wage for Domestic Workers\": 200,                   # Minimum wage for domestic workers\n",
    "#     \"MGNREGA Wage\": 210,                                        # MGNREGA wage\n",
    "#     \"Service Charge for e-Governance Services\": 20,             # Service charge for e-Governance\n",
    "#     \"Motor Transport Workers (Heavy Vehicle Drivers)\": 500,     # Heavy vehicle drivers\n",
    "#     \"Security Guard (Without Arms)\": 400,                       # Security guards without arms\n",
    "#     \"Data Entry Operator\": 450,                                 # Data entry operator\n",
    "#     \"Sweeping & Cleaning Services\": 300,                        # Sweeping and cleaning services\n",
    "#     \"Painter (Building and Other Construction)\": 500,           # Painters in construction\n",
    "#     \"Electrician\": 550,                                         # Electricians\n",
    "#     \"Mason (Construction)\": 600,                                # Masons in construction\n",
    "#     \"Carpenter\": 550,                                           # Carpenters\n",
    "#     \"Plumber\": 500,                                             # Plumbers\n",
    "#     \"Nursing Staff (General Duty)\": 700,                        # Nursing staff\n",
    "#     \"Gardener\": 350,                                            # Gardeners\n",
    "#     \"Watchman\": 350,                                            # Watchmen\n",
    "#     \"Tailor\": 400,                                              # Tailors\n",
    "#     \"Cook (Institutional/Industrial)\": 450,                     # Cooks in institutional settings\n",
    "#     \"Computer Operator\": 500                                    # Computer operators\n",
    "# }\n",
    "\n",
    "\n",
    "# government_defined_rates"
   ]
  },
  {
   "cell_type": "code",
   "execution_count": 123,
   "metadata": {},
   "outputs": [],
   "source": [
    "search_url = f\"https://www.google.com/search?tbm=shop&q={search_str.replace(' ', '+')}\"\n",
    "HEADERS = ({'User-Agent': 'Mozilla/5.0 (Windows NT 10.0; Win64; x64) AppleWebKit/537.36 (KHTML, like Gecko) Chrome/128.0.0.0 Safari/537.36 Edg/128.0.0.0', 'Accepted-Language':'en-US, en;q=0.5'})\n",
    "\n",
    "response = requests.get(search_url, headers=HEADERS)\n",
    "soup = BeautifulSoup(response.content, 'html.parser')"
   ]
  },
  {
   "cell_type": "code",
   "execution_count": 124,
   "metadata": {},
   "outputs": [
    {
     "name": "stdout",
     "output_type": "stream",
     "text": [
      "['Ac Repair ( Split/Window )', '₹349.00', 'quickwefix.com', 'https://www.google.com/url?url=https://quickwefix.com/products/ac-repair-split-window%3Fvariant%3D34272312%26sku_id%3D34272312&rct=j&q=&esrc=s&opi=95576897&sa=U&ved=0ahUKEwjfq6nt_p-IAxXie2wGHdWIE0UQgOUECIkG&usg=AOvVaw0v83O1yxThAWRKPX9gF4H0']\n",
      "['Ac repair', '₹200.00', 'Royal Home Appliances repair & service', 'https://www.google.com/url?url=https://www.royalhomesonline.in/product/30436604/Ac-repair%3Futm_source%3DGMC&rct=j&q=&esrc=s&opi=95576897&sa=U&ved=0ahUKEwjfq6nt_p-IAxXie2wGHdWIE0UQgOUECJUG&usg=AOvVaw0j9_H8fnem8PGdL-z84bRp']\n",
      "['AC Service | ItsBen LifeStyle', '₹500.00', 'ItsBen LifeStyle', 'https://www.google.com/url?url=https://itsbenlifestyle.com/products/ac-service%3Fvariant%3D47547576975643%26currency%3DINR%26utm_medium%3Dproduct_sync%26utm_source%3Dgoogle%26utm_content%3Dsag_organic%26utm_campaign%3Dsag_organic%26srsltid%3DAfmBOoo98W1rwcS4vcp0V6sXRgRUd4ww8xpqT1irXnriKzGhY2S9h3cov14%26com_cvv%3Dd30042528f072ba8a22b19c81250437cd47a2f30330f0ed03551c4efdaf3409e&rct=j&q=&esrc=s&opi=95576897&sa=U&ved=0ahUKEwjfq6nt_p-IAxXie2wGHdWIE0UQgOUECKEG&usg=AOvVaw2wppGufCQDbFQImOuObKQ_']\n",
      "['AC Service', '₹499.00', 'Oooele Services AC Fridge RO', 'https://www.google.com/url?url=https://www.oooele.com/product/31028539/AC-Service%3Futm_source%3DGMC&rct=j&q=&esrc=s&opi=95576897&sa=U&ved=0ahUKEwjfq6nt_p-IAxXie2wGHdWIE0UQgOUECK4G&usg=AOvVaw0X77lu1bR2gF22ITkjCaqQ']\n",
      "['AC Repair (Split/Window)', '₹199.00', 'Aajjo.com', 'https://www.google.com/url?url=https://www.aajjo.com/airconditioning-service/ac-repair-splitwindow-in-jaipur-local-pintu/product&rct=j&q=&esrc=s&opi=95576897&sa=U&ved=0ahUKEwjfq6nt_p-IAxXie2wGHdWIE0UQgOUECLoG&usg=AOvVaw0JeTWFxxtUnG7vIqSahWNS']\n",
      "['Ac Repair Sawai Madhopur', '₹399.00', 'Aajjo.com', 'https://www.google.com/url?url=https://www.aajjo.com/airconditioning-service/ac-repair-sawai-madhopur-in-constantcity-srk-refrigeration/product&rct=j&q=&esrc=s&opi=95576897&sa=U&ved=0ahUKEwjfq6nt_p-IAxXie2wGHdWIE0UQgOUECMYG&usg=AOvVaw2JXdJu3P068-xPp7fgZ8q0']\n",
      "['Air Conditioner Repair', '₹500.00', 'Service Bazaar', 'https://www.google.com/url?url=https://service-bazaar.com/index.php/product/air-conditioner-repair-5/%3Fattribute_min-repairing-charges%3DSplit%2BAC&rct=j&q=&esrc=s&opi=95576897&sa=U&ved=0ahUKEwjfq6nt_p-IAxXie2wGHdWIE0UQgOUECNIG&usg=AOvVaw2PPpxC7UZ7vgGdUKCGBoz6']\n",
      "['Win/Split AC Repair', '₹299.00', 'Delight Electro Services', 'https://www.google.com/url?url=https://www.getdelight.org/product/30848302/Win-Split-AC-Repair-%3Futm_source%3DGMC&rct=j&q=&esrc=s&opi=95576897&sa=U&ved=0ahUKEwjfq6nt_p-IAxXie2wGHdWIE0UQgOUECN4G&usg=AOvVaw1ImKP7UJSoXicksw8GvmQN']\n",
      "['Domestic AC Repair & Visit', '₹599.00', 'Necos ResQ', 'https://www.google.com/url?url=https://necosresq.com/product/ac-repair-visit-window-split/&rct=j&q=&esrc=s&opi=95576897&sa=U&ved=0ahUKEwjfq6nt_p-IAxXie2wGHdWIE0UQgOUECOoG&usg=AOvVaw0xJO4XHm9Oo1-dExGGv5A1']\n",
      "['Top 5 Reasons to Choose Our AC Service: Guaranteed Comfort & Efficiency!', '₹599.00', 'Fix Masterz', 'https://www.google.com/url?url=http://fixmasterz.com/product/ac-service-split/&rct=j&q=&esrc=s&opi=95576897&sa=U&ved=0ahUKEwjfq6nt_p-IAxXie2wGHdWIE0UQgOUECPYG&usg=AOvVaw3FIQTKsMTbwTYSOMf6G8Xz']\n",
      "['Jet Ac service Split', '₹499.00', 'Service Myhome', 'https://www.google.com/url?url=https://servicemyhome.in/product/jet-ac-service-split/&rct=j&q=&esrc=s&opi=95576897&sa=U&ved=0ahUKEwjfq6nt_p-IAxXie2wGHdWIE0UQgOUECIIH&usg=AOvVaw3dshGQFJylFzO7MvBC2HsQ']\n",
      "['AC, Service', '₹299.00', 'star home appliances service', 'https://www.google.com/url?url=https://www.starhomeappliancesservice.org/product/30899877/AC--Service%3Futm_source%3DGMC&rct=j&q=&esrc=s&opi=95576897&sa=U&ved=0ahUKEwjfq6nt_p-IAxXie2wGHdWIE0UQgOUECI4H&usg=AOvVaw2uC40YIASdDpuTstRnOy4N']\n",
      "['Ac Service With Zet Pump', '₹550.00', 'real8853.org', 'https://www.google.com/url?url=https://www.real8853.org/product/30939266/Ac-Service-With-Zet-Pump%3Futm_source%3DGMC&rct=j&q=&esrc=s&opi=95576897&sa=U&ved=0ahUKEwjfq6nt_p-IAxXie2wGHdWIE0UQgOUECJoH&usg=AOvVaw2nLoP-xdm_xPxLJcNWzUtN']\n",
      "['Ac Service Sawai Madhopur, Copper, Capacity: 1 Ton', '₹1,000.00', 'Aajjo.com', 'https://www.google.com/url?url=https://www.aajjo.com/airconditioning-service/ac-service-sawai-madhopur-copper-capacity-1-ton-in-constantcity-srk-refrigeration/product&rct=j&q=&esrc=s&opi=95576897&sa=U&ved=0ahUKEwjfq6nt_p-IAxXie2wGHdWIE0UQgOUECKYH&usg=AOvVaw2-yLDwACp2LTSUPXsty9pU']\n",
      "['AC Gas Leak Fix & Refill Service', '₹2,499.00', 'Aces', 'https://www.google.com/url?url=https://acesindia.in/products/ac-gas-leak-fix-refill-service%3Fsrsltid%3DAfmBOooqyVbcj1_zOCOl8dWJTksKUz3CUMFDjb34ObeDhklII1k5TH_kkGM&rct=j&q=&esrc=s&opi=95576897&sa=U&ved=0ahUKEwjfq6nt_p-IAxXie2wGHdWIE0UQgOUECLIH&usg=AOvVaw3LedU6-RzsKxlrSEVIiHJG']\n",
      "['Ac Repair & Service', '₹299.00', 'Royal Home Appliances repair & service', 'https://www.google.com/url?url=https://www.royalhomesonline.in/product/30437488/Ac-Repair---Service%3Futm_source%3DGMC&rct=j&q=&esrc=s&opi=95576897&sa=U&ved=0ahUKEwjfq6nt_p-IAxXie2wGHdWIE0UQgOUECL4H&usg=AOvVaw3gQwaooU18if8yLWNKX_QA']\n",
      "['Certificate in AC Service and Repair', '₹5,000.00', 'iisdt.in', 'https://www.google.com/url?url=https://iisdt.in/product/certificate-in-ac-service-and-repair/&rct=j&q=&esrc=s&opi=95576897&sa=U&ved=0ahUKEwjfq6nt_p-IAxXie2wGHdWIE0UQgOUECMoH&usg=AOvVaw2oLJUUyP8imwL915Iin7hW']\n",
      "['Ductable AC Repair & Maintenance Services, for Industrial air conditioner', '₹10,000.00', 'Aajjo.com', 'https://www.google.com/url?url=https://www.aajjo.com/airconditioning-service/ductable-ac-repair-maintenance-services-for-industrial-air-conditioner-in-praduman-nagar-sethi-sethis-corporation/product&rct=j&q=&esrc=s&opi=95576897&sa=U&ved=0ahUKEwjfq6nt_p-IAxXie2wGHdWIE0UQgOUECNYH&usg=AOvVaw0vvMT3mi87HgOnlryInLdQ']\n",
      "['Jet AC service', '₹499.00', 'Service Myhome', 'https://www.google.com/url?url=https://servicemyhome.in/product/jet-ac-service/&rct=j&q=&esrc=s&opi=95576897&sa=U&ved=0ahUKEwjfq6nt_p-IAxXie2wGHdWIE0UQgOUECOIH&usg=AOvVaw2tZTm32BC5Ant6SoH-iYQO']\n",
      "['AC Cleaning Service', '₹299.00', 'shrishraddham.org', 'https://www.google.com/url?url=https://www.shrishraddham.org/product/30247965/AC-Cleaning-Service%3Futm_source%3DGMC&rct=j&q=&esrc=s&opi=95576897&sa=U&ved=0ahUKEwjfq6nt_p-IAxXie2wGHdWIE0UQgOUECO4H&usg=AOvVaw3SeOWU_yytx_HBZl2E_gyX']\n",
      "['Air Conditioner Service', '₹500.00', 'Service Bazaar', 'https://www.google.com/url?url=https://service-bazaar.com/index.php/product/air-conditioner-service-5/%3Fattribute_service-charges%3DSplit%2BAC&rct=j&q=&esrc=s&opi=95576897&sa=U&ved=0ahUKEwjfq6nt_p-IAxXie2wGHdWIE0UQgOUECPoH&usg=AOvVaw3431Ch4QzV9YIfoF18FrBU']\n",
      "['AC Uninstallation or Dismantling', '₹980.23', 'Immenso', 'https://www.google.com/url?url=https://immenso.com.bd/product/ac-repair-and-services/%3Fattribute_capacity%3D4-5%2BTon&rct=j&q=&esrc=s&opi=95576897&sa=U&ved=0ahUKEwjfq6nt_p-IAxXie2wGHdWIE0UQgOUECIYI&usg=AOvVaw0IQbdrHtv_hkH-WYlebtXh']\n",
      "['Hatchback High Performance AC Service', '₹3,199.00', 'wheelyfix.com', 'https://www.google.com/url?url=https://www.wheelyfix.com/product/30336626/Hatchback-High-Performance-AC-Service%3Futm_source%3DGMC&rct=j&q=&esrc=s&opi=95576897&sa=U&ved=0ahUKEwjfq6nt_p-IAxXie2wGHdWIE0UQgOUECJMI&usg=AOvVaw0rh2aXEgi8dbHQ-no5MeVx']\n",
      "['AC Repair', '₹249.00', 'Cool shine services', 'https://www.google.com/url?url=https://www.coolshineservices.in/product/30809281/AC-Repair%3Futm_source%3DGMC&rct=j&q=&esrc=s&opi=95576897&sa=U&ved=0ahUKEwjfq6nt_p-IAxXie2wGHdWIE0UQgOUECJ8I&usg=AOvVaw0HROAbn_2_oKmeRHzzHztC']\n",
      "['Split AC Service', '₹499.00', 'AC service and repair point', 'https://www.google.com/url?url=https://www.acserviceandrepairpoint.org/product/31179760/Split-AC-Service%3Futm_source%3DGMC&rct=j&q=&esrc=s&opi=95576897&sa=U&ved=0ahUKEwjfq6nt_p-IAxXie2wGHdWIE0UQgOUECKsI&usg=AOvVaw0sDW_7B1pp7xWk-_5sMq-U']\n",
      "['Ac Service Station', '₹3,00,000.00', 'Tradeindia.com', 'https://www.google.com/url?url=https://www.tradeindia.com/products/ac-service-station-c1980022.html&rct=j&q=&esrc=s&opi=95576897&sa=U&ved=0ahUKEwjfq6nt_p-IAxXie2wGHdWIE0UQgOUECLcI&usg=AOvVaw1WAVD4IBp4y9LSDYUJtBZg']\n",
      "['Ac Repair Kit Packingheater', '₹85.00', 'Naya Purana Online', 'https://www.google.com/url?url=https://nayapuranaonline.com/public/index.php/product/ac-repair-kit-packingheater-2305065008587&rct=j&q=&esrc=s&opi=95576897&sa=U&ved=0ahUKEwjfq6nt_p-IAxXie2wGHdWIE0UQgOUECMMI&usg=AOvVaw2syqLavHDdafpbImi2l7VZ']\n",
      "['Deep Clean AC Service ( Split )', '₹649.00', 'quickwefix.com', 'https://www.google.com/url?url=https://quickwefix.com/products/deep-clean-ac-service-split-2%3Fvariant%3D34272219%26sku_id%3D34272219&rct=j&q=&esrc=s&opi=95576897&sa=U&ved=0ahUKEwjfq6nt_p-IAxXie2wGHdWIE0UQgOUECM8I&usg=AOvVaw2Ir_4Xnjv-7jHRHxyUkxE0']\n",
      "['Split AC Foam Jet Service', '₹749.00', 'urban live services', 'https://www.google.com/url?url=https://www.urbanliveservices.in/product/30749567/Split-AC-Foam-Jet-Service%3Futm_source%3DGMC&rct=j&q=&esrc=s&opi=95576897&sa=U&ved=0ahUKEwjfq6nt_p-IAxXie2wGHdWIE0UQgOUECNsI&usg=AOvVaw12kJ45sVwY5p2OmL6vS2x_']\n",
      "['AC Repair And Services', '₹2,50,000.00', 'Aajjo.com', 'https://www.google.com/url?url=https://www.aajjo.com/airconditioning-service/ac-repair-and-services-in-constantcity-srk-refrigeration/product&rct=j&q=&esrc=s&opi=95576897&sa=U&ved=0ahUKEwjfq6nt_p-IAxXie2wGHdWIE0UQgOUECOcI&usg=AOvVaw1bZAaeXki10NMfPWAqhtuq']\n",
      "['Window/split Ac Uninstallation - Fix Masterz', '₹699.00', 'Fix Masterz', 'https://www.google.com/url?url=https://fixmasterz.com/product/window-ac-uninstallation/&rct=j&q=&esrc=s&opi=95576897&sa=U&ved=0ahUKEwjfq6nt_p-IAxXie2wGHdWIE0UQgOUECPMI&usg=AOvVaw12WIZPsQe-Z7a2B1VxbwlV']\n",
      "['Car AC Repair', '₹3,000.00', 'Service Bazaar', 'https://www.google.com/url?url=https://service-bazaar.com/index.php/product/car-ac-repair/&rct=j&q=&esrc=s&opi=95576897&sa=U&ved=0ahUKEwjfq6nt_p-IAxXie2wGHdWIE0UQgOUECP8I&usg=AOvVaw3j-FUSdAhjNaH6BIHMLLMA']\n",
      "['Anti-rust deep clean AC Service', '₹799.00', 'Aces', 'https://www.google.com/url?url=https://acesindia.in/products/anti-rust-deep-cleaning-ac-service%3Fsrsltid%3DAfmBOop7-XuMqfzfjZ2FOTqxANuKjen5ZP4JA0kGfSun38dD2x_uy-y_nRM&rct=j&q=&esrc=s&opi=95576897&sa=U&ved=0ahUKEwjfq6nt_p-IAxXie2wGHdWIE0UQgOUECIsJ&usg=AOvVaw1InGz9_dGhVzfbfTZ2Wcm9']\n",
      "['AC Repairing Service CDR 12', '₹50.00', 'Tr Bahadurpur', 'https://www.google.com/url?url=https://trbahadurpur.com/product/ac-repairing-service-cdr-12/&rct=j&q=&esrc=s&opi=95576897&sa=U&ved=0ahUKEwjfq6nt_p-IAxXie2wGHdWIE0UQgOUECJcJ&usg=AOvVaw3kTKh14n_jHenTlitoxMLf']\n",
      "['Splice-lokkledge-lok Ac Repair Ends O-ring Assortment', '₹12,920.00', 'Ubuy', 'https://www.google.com/url?url=https://www.ubuy.co.in/product/7J6CA1U4-splice-lok-kledge-lok-a-c-repair-ends-o-ring-assortment%3Fsrsltid%3DAfmBOop-kBiHCFK99RSZWj1GZy3yXCC4MdLFvdmQlO3-xm-a-Nwfx1UT6Mw&rct=j&q=&esrc=s&opi=95576897&sa=U&ved=0ahUKEwjfq6nt_p-IAxXie2wGHdWIE0UQgOUECKMJ&usg=AOvVaw2AvKZLPZW-RFvigsjfiQtK']\n",
      "['Power Saver AC service', '₹499.00', 'Service Myhome', 'https://www.google.com/url?url=https://servicemyhome.in/product/power-saver-ac-service/&rct=j&q=&esrc=s&opi=95576897&sa=U&ved=0ahUKEwjfq6nt_p-IAxXie2wGHdWIE0UQgOUECK8J&usg=AOvVaw2XAaoK0UhIG3Rf_081zlG5']\n",
      "['AC Jet Service', '₹399.00', 'Cool shine services', 'https://www.google.com/url?url=https://www.coolshineservices.in/product/30797536/AC-Jet-Service%3Futm_source%3DGMC&rct=j&q=&esrc=s&opi=95576897&sa=U&ved=0ahUKEwjfq6nt_p-IAxXie2wGHdWIE0UQgOUECLsJ&usg=AOvVaw0KIUUTDsmE0sG4wRj95VMy']\n",
      "['Domestic AC Jet Servicing', '₹599.00', 'Necos ResQ', 'https://www.google.com/url?url=https://necosresq.com/product/ac-jet-servicing-window-split/&rct=j&q=&esrc=s&opi=95576897&sa=U&ved=0ahUKEwjfq6nt_p-IAxXie2wGHdWIE0UQgOUECMcJ&usg=AOvVaw1St6Kr4o86raPDArSMiXGh']\n",
      "['Ac Repairing Service', '₹3,03,960.00', 'Tradeindia.com', 'https://www.google.com/url?url=https://www.tradeindia.com/products/ac-repairing-service-c6063749.html&rct=j&q=&esrc=s&opi=95576897&sa=U&ved=0ahUKEwjfq6nt_p-IAxXie2wGHdWIE0UQgOUECNMJ&usg=AOvVaw1oVaoFAqX1ME-NPvDl7sjB']\n",
      "['Aasons 3/8 1/4 Ratcheting Service Wrench Air Conditioning Aasons 3/8 1/4 ...', '₹485.00', 'Flipkart', 'https://www.google.com/url?url=http://www.flipkart.com/aasons-3-8-1-4-ratcheting-service-wrench-air-conditioning-repair-double-sided-rachet/p/itmc276cfbbdd715%3Fpid%3DWRSGHKHEZJQJHPYH%26lid%3DLSTWRSGHKHEZJQJHPYHDVJJEN%26marketplace%3DFLIPKART%26cmpid%3Dcontent_wrench-set_8965229628_gmc&rct=j&q=&esrc=s&opi=95576897&sa=U&ved=0ahUKEwjfq6nt_p-IAxXie2wGHdWIE0UQgOUECOAJ&usg=AOvVaw07faAV5SBvqqEe-4HddZEv']\n",
      "['Split Ac Repair', '₹1,000.00', 'Aajjo.com', 'https://www.google.com/url?url=https://www.aajjo.com/airconditioning-service/split-ac-repair-in-kamrup-b-m-refrigeration-air-conditioning/product&rct=j&q=&esrc=s&opi=95576897&sa=U&ved=0ahUKEwjfq6nt_p-IAxXie2wGHdWIE0UQgOUECOwJ&usg=AOvVaw3utPr012-gmX_K3LctoNc-']\n",
      "['AC Repair Kit REP.SET', '₹17,774.00', 'Naya Purana Online', 'https://www.google.com/url?url=https://nayapuranaonline.com/product/ac-repair-kit-repset-2305270436851&rct=j&q=&esrc=s&opi=95576897&sa=U&ved=0ahUKEwjfq6nt_p-IAxXie2wGHdWIE0UQgOUECPgJ&usg=AOvVaw03npWf5T79aKSmRkF853M8']\n",
      "['AC Repair Service', '₹599.00', 'Aces', 'https://www.google.com/url?url=https://acesindia.in/products/ac-repair-service%3Fsrsltid%3DAfmBOoqtgxlPyUIiyfxR1MDrmNOE2wyAQt-jVvSB9yglsiXWa71H32W7768&rct=j&q=&esrc=s&opi=95576897&sa=U&ved=0ahUKEwjfq6nt_p-IAxXie2wGHdWIE0UQgOUECIQK&usg=AOvVaw2HIMCdHPGu67LiA4Fh-SFl']\n",
      "['SATYWALI R134 Car AC Gas Filling Kit Compatible with all Car Air Conditioners ...', '₹2,489.00', 'Amazon.in', 'https://www.google.com/url?url=https://www.amazon.in/SATYWALI-Car-Kit-Conditioners-Full/dp/B0D4ML87D1%3Fsource%3Dps-sl-shoppingads-lpcontext%26ref_%3Dfplfs%26psc%3D1%26smid%3DA2589UDMFO52RM&rct=j&q=&esrc=s&opi=95576897&sa=U&ved=0ahUKEwjfq6nt_p-IAxXie2wGHdWIE0UQgOUECJAK&usg=AOvVaw3p_RDpjsePGPoLiVlj8ung']\n",
      "['CAR AC SERVICE', '₹1,500.00', 'mygaraagepalamvihar.com', 'https://www.google.com/url?url=https://www.mygaraagepalamvihar.com/product/31381813/CAR-AC-SERVICE%3Futm_source%3DGMC&rct=j&q=&esrc=s&opi=95576897&sa=U&ved=0ahUKEwjfq6nt_p-IAxXie2wGHdWIE0UQgOUECJwK&usg=AOvVaw3W83GYWpmFI0CsD8yhnoPc']\n",
      "['AC Tool Kit with Vacuum Pump', '₹8,590.00', 'B P Refcool', 'https://www.google.com/url?url=https://bprefcool.com/products/ac-tool-kit-with-vacuum-pump%3Fvariant%3D45124868931826%26currency%3DINR%26utm_medium%3Dproduct_sync%26utm_source%3Dgoogle%26utm_content%3Dsag_organic%26utm_campaign%3Dsag_organic%26srsltid%3DAfmBOooqDP8nQ0_oR2gqdaZ9Tlg3KRpv2OsOHdRKRLnXbuRZN9b1jFfZzA4&rct=j&q=&esrc=s&opi=95576897&sa=U&ved=0ahUKEwjfq6nt_p-IAxXie2wGHdWIE0UQgOUECKgK&usg=AOvVaw3k6IFn_HeKYQaxgEs1-YfN']\n",
      "['Lite Ac Service ( Split )', '₹449.00', 'quickwefix.com', 'https://www.google.com/url?url=https://quickwefix.com/products/lite-ac-service-split-1%3Fvariant%3D34272255%26sku_id%3D34272255&rct=j&q=&esrc=s&opi=95576897&sa=U&ved=0ahUKEwjfq6nt_p-IAxXie2wGHdWIE0UQgOUECLQK&usg=AOvVaw2bdZZ-FVeUpde04IAR6x-C']\n",
      "['A.C', '₹100.00', 'gasstoverepairandhope.org', 'https://www.google.com/url?url=https://www.gasstoverepairandhope.org/product/30856886/A-C%3Futm_source%3DGMC&rct=j&q=&esrc=s&opi=95576897&sa=U&ved=0ahUKEwjfq6nt_p-IAxXie2wGHdWIE0UQgOUECMAK&usg=AOvVaw1z2DHbBQUYL4XW_5lbQNaw']\n",
      "['All AC Installation Work', '₹1,499.00', 'bluetons.com', 'https://www.google.com/url?url=https://www.bluetons.com/product/31046166/All-AC-Installation-Work%3Futm_source%3DGMC&rct=j&q=&esrc=s&opi=95576897&sa=U&ved=0ahUKEwjfq6nt_p-IAxXie2wGHdWIE0UQgOUECMwK&usg=AOvVaw31VI3NOPJipVTDpYrH2vQo']\n",
      "['Best Ac Repair In Kolkata Urban Live Service,', '₹299.00', 'urban live services', 'https://www.google.com/url?url=https://www.urbanliveservices.in/product/30869325/Best-Ac-Repair-In-Kolkata-Urban-Live-Service-%3Futm_source%3DGMC&rct=j&q=&esrc=s&opi=95576897&sa=U&ved=0ahUKEwjfq6nt_p-IAxXie2wGHdWIE0UQgOUECNgK&usg=AOvVaw3nvHLR4WSHWNBjJZ9Sa7JW']\n",
      "['Split Ac Service With Including All Parts For Home And Offices', '₹2,50,000.00', 'Tradeindia.com', 'https://www.google.com/url?url=https://www.tradeindia.com/products/split-ac-service-with-including-all-parts-for-home-and-offices-7620151.html&rct=j&q=&esrc=s&opi=95576897&sa=U&ved=0ahUKEwjfq6nt_p-IAxXie2wGHdWIE0UQgOUECOQK&usg=AOvVaw2gUEpwvM6_qb135iTOP_RC']\n",
      "['Hatchback Regular AC Services', '₹2,099.00', 'wheelyfix.com', 'https://www.google.com/url?url=https://www.wheelyfix.com/product/30301657/Hatchback-Regular-AC-Services%3Futm_source%3DGMC&rct=j&q=&esrc=s&opi=95576897&sa=U&ved=0ahUKEwjfq6nt_p-IAxXie2wGHdWIE0UQgOUECPAK&usg=AOvVaw0YNCsjKN4FPpQZ-2pAlLor']\n",
      "['Kozyvacu Mini Splithvacauto Ac Repair Complete Tool Kit With 1-stage 4.5 Cfm ...', '₹19,240.54', 'Ubuy', 'https://www.google.com/url?url=https://www.ubuy.com.ph/product/6LLE7M8G-kozyvacu-mini-splithvacauto-ac-repair-complete-tool-kit-with-1-stage-4-5-cfm-vacuum-pump-manifold-ga%3Fsrsltid%3DAfmBOoomUSm-cAIcVM6Pgb3n-4yvmAMBuJTUFQeyHmRKWlNHnIsKFc-sIm4&rct=j&q=&esrc=s&opi=95576897&sa=U&ved=0ahUKEwjfq6nt_p-IAxXie2wGHdWIE0UQgOUECP0K&usg=AOvVaw1cyrafSbvndNQ73QCxcmaW']\n",
      "['Domestic AC Dry Servicing', '₹350.00', 'Necos ResQ', 'https://www.google.com/url?url=https://necosresq.com/product/ac-dry-servicing-window-split/&rct=j&q=&esrc=s&opi=95576897&sa=U&ved=0ahUKEwjfq6nt_p-IAxXie2wGHdWIE0UQgOUECIoL&usg=AOvVaw10ft-yup2X7u5HqQvnj57b']\n",
      "['ac foam service', '₹499.00', 'Cool shine services', 'https://www.google.com/url?url=https://www.coolshineservices.in/product/30803077/ac-foam-service%3Futm_source%3DGMC&rct=j&q=&esrc=s&opi=95576897&sa=U&ved=0ahUKEwjfq6nt_p-IAxXie2wGHdWIE0UQgOUECJYL&usg=AOvVaw0dLcDhFqM7w2JpKRI8AI2J']\n",
      "['Air Conditioning and Refrigeration Repair Made Easy: A Complete Step-by-step ...', '₹2,068.63 + tax', 'Biblio.com - Mega Buzz', 'https://www.google.com/url?url=https://www.biblio.com/book/air-conditioning-refrigeration-repair-made-easy/d/1550544298%3Faid%3Dfrg%26srsltid%3DAfmBOoqja1okWsWwh_RM3oiEuBuOrKU8AJV7G_6KYE8hdqK8bcbBZTvGY4U%26com_cvv%3Dd30042528f072ba8a22b19c81250437cd47a2f30330f0ed03551c4efdaf3409e&rct=j&q=&esrc=s&opi=95576897&sa=U&ved=0ahUKEwjfq6nt_p-IAxXie2wGHdWIE0UQguUECKUL&usg=AOvVaw0M_U6o6BKVO0juvA54u1BH']\n",
      "['Air Conditioner Maintenance', '₹799.00', 'Urban Partner', 'https://www.google.com/url?url=https://www.urbanpartner.in/services/Air-Conditioner-Maintenance%3Fsrsltid%3DAfmBOoqlM6it17jNCMd52603ZeOjemtTwWxR5o0Yr4XyDwQd7yvE86tIxEY&rct=j&q=&esrc=s&opi=95576897&sa=U&ved=0ahUKEwjfq6nt_p-IAxXie2wGHdWIE0UQguUECLQL&usg=AOvVaw0C5F1F5TisVx1Azdud_xTQ']\n",
      "['AC Installation', '₹1,260.29', 'Immenso', 'https://www.google.com/url?url=https://immenso.com.bd/product/ac-installation/%3Fattribute_capacity%3D1-1.5%2BTon&rct=j&q=&esrc=s&opi=95576897&sa=U&ved=0ahUKEwjfq6nt_p-IAxXie2wGHdWIE0UQgOUECMAL&usg=AOvVaw1N6gZGB-aK4wMbiB1H-AnV']\n",
      "['Ac Repairing Banner', '₹10.00', 'Tr Bahadurpur', 'https://www.google.com/url?url=https://trbahadurpur.com/product/ac-repairing-banner-2/&rct=j&q=&esrc=s&opi=95576897&sa=U&ved=0ahUKEwjfq6nt_p-IAxXie2wGHdWIE0UQgOUECM0L&usg=AOvVaw3JgvmIJBSyAPi2ysT-xNNL']\n",
      "['Win/Split AC Jet Service', '₹599.00', 'Delight Electro Services', 'https://www.google.com/url?url=https://www.getdelight.org/product/30848279/Win-Split-AC-Jet-Service-%3Futm_source%3DGMC&rct=j&q=&esrc=s&opi=95576897&sa=U&ved=0ahUKEwjfq6nt_p-IAxXie2wGHdWIE0UQgOUECNkL&usg=AOvVaw3ieV73Uf-phIfutkc51fDe']\n"
     ]
    }
   ],
   "source": [
    "def googleShopping(soup):    \n",
    "    titles = soup.find_all('h3', {'class':'tAxDx'})\n",
    "    prices = soup.find_all('span', {'class':'a8Pemb OFFNJ'})\n",
    "    source_name = soup.find_all('div', {'class':'aULzUe IuHnof'})\n",
    "    jumbled_links = soup.find_all('div', {'class':'mnIHsc'})\n",
    "    source_link = []\n",
    "\n",
    "    for i in jumbled_links:\n",
    "        jumbled_links_content = BeautifulSoup(str(i), 'html.parser')\n",
    "        href_tag = jumbled_links_content.find('a', {'class': 'shntl'})\n",
    "        source_link.append(href_tag.get('href'))\n",
    "    source_link = [\"https://www.google.com\"+i for i in source_link]\n",
    "\n",
    "    products_list = []\n",
    "\n",
    "    for i in range(len(titles)):\n",
    "        products_list.append([titles[i].text.strip(), prices[i].text.strip(), source_name[i].text.strip(), source_link[i]])\n",
    "    \n",
    "    for i in products_list:\n",
    "        print(i)\n",
    "\n",
    "googleShopping(soup)"
   ]
  },
  {
   "cell_type": "code",
   "execution_count": null,
   "metadata": {},
   "outputs": [],
   "source": []
  }
 ],
 "metadata": {
  "kernelspec": {
   "display_name": ".venv",
   "language": "python",
   "name": "python3"
  },
  "language_info": {
   "codemirror_mode": {
    "name": "ipython",
    "version": 3
   },
   "file_extension": ".py",
   "mimetype": "text/x-python",
   "name": "python",
   "nbconvert_exporter": "python",
   "pygments_lexer": "ipython3",
   "version": "3.12.5"
  }
 },
 "nbformat": 4,
 "nbformat_minor": 2
}
